{
 "cells": [
  {
   "cell_type": "markdown",
   "metadata": {},
   "source": [
    "# Imports log file system from RP to Imported_files"
   ]
  },
  {
   "cell_type": "code",
   "execution_count": null,
   "metadata": {
    "vscode": {
     "languageId": "plaintext"
    }
   },
   "outputs": [],
   "source": [
    "import paramiko\n",
    "\n",
    "hostname = '192.168.1.159'\n",
    "username = 'root'\n",
    "password = 'root'\n",
    "remote_path = '/.local/share/linien/linien.log'\n",
    "local_path = './Imported_files/linien.log'\n",
    "\n",
    "client = paramiko.SSHClient()\n",
    "client.set_missing_host_key_policy(paramiko.AutoAddPolicy())\n",
    "client.connect(hostname, username=username, password=password)\n",
    "\n",
    "sftp = client.open_sftp()\n",
    "\n",
    "sftp.get(remote_path, local_path)\n",
    "print(\"Log file downloaded.\")\n",
    "\n",
    "sftp.close()\n",
    "client.close()"
   ]
  }
 ],
 "metadata": {
  "language_info": {
   "name": "python"
  }
 },
 "nbformat": 4,
 "nbformat_minor": 2
}
