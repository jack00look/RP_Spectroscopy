{
 "cells": [
  {
   "cell_type": "markdown",
   "metadata": {},
   "source": [
    "# Imports log file system from RP to Imported_files"
   ]
  },
  {
   "cell_type": "code",
   "execution_count": 36,
   "metadata": {},
   "outputs": [
    {
     "name": "stdout",
     "output_type": "stream",
     "text": [
      "Log file downloaded.\n"
     ]
    }
   ],
   "source": [
    "import paramiko\n",
    "\n",
    "hostname = '192.168.1.159'\n",
    "username = 'root'\n",
    "password = 'root'\n",
    "remote_path = '/root/.local/share/linien/linien.log'\n",
    "local_path = './Imported_files/linien.log'\n",
    "\n",
    "client = paramiko.SSHClient()\n",
    "client.set_missing_host_key_policy(paramiko.AutoAddPolicy())\n",
    "client.connect(hostname, username=username, password=password)\n",
    "\n",
    "sftp = client.open_sftp()\n",
    "\n",
    "sftp.get(remote_path, local_path)\n",
    "print(\"Log file downloaded.\")\n",
    "\n",
    "sftp.close()\n",
    "client.close()"
   ]
  }
 ],
 "metadata": {
  "kernelspec": {
   "display_name": "RP_spectroscopy",
   "language": "python",
   "name": "python3"
  },
  "language_info": {
   "codemirror_mode": {
    "name": "ipython",
    "version": 3
   },
   "file_extension": ".py",
   "mimetype": "text/x-python",
   "name": "python",
   "nbconvert_exporter": "python",
   "pygments_lexer": "ipython3",
   "version": "3.10.13"
  }
 },
 "nbformat": 4,
 "nbformat_minor": 2
}
