{
 "cells": [
  {
   "cell_type": "markdown",
   "metadata": {},
   "source": [
    "# This code import a file via ssh and export the modified one"
   ]
  },
  {
   "cell_type": "markdown",
   "metadata": {},
   "source": [
    "## Libraries"
   ]
  },
  {
   "cell_type": "code",
   "execution_count": 81,
   "metadata": {},
   "outputs": [],
   "source": [
    "import paramiko"
   ]
  },
  {
   "cell_type": "markdown",
   "metadata": {},
   "source": [
    "## ssh protocol informations"
   ]
  },
  {
   "cell_type": "code",
   "execution_count": 82,
   "metadata": {},
   "outputs": [],
   "source": [
    "hostname = '192.168.1.159'\n",
    "username = 'root'\n",
    "password = 'root'\n",
    "\n",
    "local_path = './Imported_files'\n"
   ]
  },
  {
   "cell_type": "markdown",
   "metadata": {},
   "source": [
    "## Remote paths"
   ]
  },
  {
   "cell_type": "code",
   "execution_count": 76,
   "metadata": {},
   "outputs": [],
   "source": [
    "\n",
    "remote_path = '/usr/local/lib/python3.10/dist-packages/linien_server/autolock' #without file name\n",
    "file_name = 'autolock.py'\n",
    "\n",
    "remote_path = remote_path + '/' + file_name\n",
    "local_path = local_path + '/' + file_name\n"
   ]
  },
  {
   "cell_type": "code",
   "execution_count": 63,
   "metadata": {},
   "outputs": [],
   "source": [
    "remote_path = '/usr/local/lib/python3.10/dist-packages/linien_server/autolock' #without file name\n",
    "file_name = 'algorithm_selection.py'\n",
    "\n",
    "remote_path = remote_path + '/' + file_name\n",
    "local_path = local_path + '/' + file_name"
   ]
  },
  {
   "cell_type": "code",
   "execution_count": 79,
   "metadata": {},
   "outputs": [],
   "source": [
    "remote_path = '/usr/local/lib/python3.10/dist-packages/linien_server/autolock' #without file name\n",
    "file_name = 'robust.py'\n",
    "\n",
    "remote_path = remote_path + '/' + file_name\n",
    "local_path = local_path + '/' + file_name"
   ]
  },
  {
   "cell_type": "code",
   "execution_count": 83,
   "metadata": {},
   "outputs": [],
   "source": [
    "\n",
    "remote_path = '/usr/local/lib/python3.10/dist-packages/linien_common'\n",
    "file_name = 'common.py'\n",
    "\n",
    "remote_path = remote_path + '/' + file_name\n",
    "local_path = local_path + '/' + file_name"
   ]
  },
  {
   "cell_type": "markdown",
   "metadata": {},
   "source": [
    "## Download file"
   ]
  },
  {
   "cell_type": "code",
   "execution_count": 69,
   "metadata": {},
   "outputs": [
    {
     "name": "stdout",
     "output_type": "stream",
     "text": [
      "File downloaded.\n"
     ]
    }
   ],
   "source": [
    "client = paramiko.SSHClient()\n",
    "client.set_missing_host_key_policy(paramiko.AutoAddPolicy())\n",
    "client.connect(hostname, username=username, password=password)\n",
    "\n",
    "sftp = client.open_sftp()\n",
    "\n",
    "sftp.get(remote_path, local_path)\n",
    "print(\"File downloaded.\")\n",
    "\n",
    "sftp.close()\n",
    "client.close()"
   ]
  },
  {
   "cell_type": "markdown",
   "metadata": {},
   "source": [
    "## Upload file"
   ]
  },
  {
   "cell_type": "code",
   "execution_count": 84,
   "metadata": {},
   "outputs": [
    {
     "name": "stdout",
     "output_type": "stream",
     "text": [
      "File uploaded.\n"
     ]
    }
   ],
   "source": [
    "client = paramiko.SSHClient()\n",
    "client.set_missing_host_key_policy(paramiko.AutoAddPolicy())\n",
    "client.connect(hostname, username=username, password=password)\n",
    "\n",
    "sftp = client.open_sftp()\n",
    "\n",
    "sftp.put(local_path, remote_path)\n",
    "print(\"File uploaded.\")\n",
    "\n",
    "sftp.close()\n",
    "client.close()"
   ]
  }
 ],
 "metadata": {
  "kernelspec": {
   "display_name": "RP_spectroscopy",
   "language": "python",
   "name": "python3"
  },
  "language_info": {
   "codemirror_mode": {
    "name": "ipython",
    "version": 3
   },
   "file_extension": ".py",
   "mimetype": "text/x-python",
   "name": "python",
   "nbconvert_exporter": "python",
   "pygments_lexer": "ipython3",
   "version": "3.10.13"
  }
 },
 "nbformat": 4,
 "nbformat_minor": 2
}
